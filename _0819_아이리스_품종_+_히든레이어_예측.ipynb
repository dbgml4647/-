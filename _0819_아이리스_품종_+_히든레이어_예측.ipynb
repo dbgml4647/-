{
  "nbformat": 4,
  "nbformat_minor": 0,
  "metadata": {
    "colab": {
      "name": "#0819 아이리스 품종 + 히든레이어 예측.ipynb",
      "provenance": [],
      "authorship_tag": "ABX9TyPypU/fak1K8Qj/o88svk/A",
      "include_colab_link": true
    },
    "kernelspec": {
      "name": "python3",
      "display_name": "Python 3"
    }
  },
  "cells": [
    {
      "cell_type": "markdown",
      "metadata": {
        "id": "view-in-github",
        "colab_type": "text"
      },
      "source": [
        "<a href=\"https://colab.research.google.com/github/dbgml4647/Meachine-Learning-Study/blob/master/_0819_%EC%95%84%EC%9D%B4%EB%A6%AC%EC%8A%A4_%ED%92%88%EC%A2%85_%2B_%ED%9E%88%EB%93%A0%EB%A0%88%EC%9D%B4%EC%96%B4_%EC%98%88%EC%B8%A1.ipynb\" target=\"_parent\"><img src=\"https://colab.research.google.com/assets/colab-badge.svg\" alt=\"Open In Colab\"/></a>"
      ]
    },
    {
      "cell_type": "code",
      "metadata": {
        "id": "ffcuj64axmIe",
        "colab_type": "code",
        "colab": {}
      },
      "source": [
        "# 라이브러리 사용 \n",
        "import tensorflow as tf\n",
        "import pandas as pd"
      ],
      "execution_count": 1,
      "outputs": []
    },
    {
      "cell_type": "code",
      "metadata": {
        "id": "5EOPtsUozsr-",
        "colab_type": "code",
        "colab": {
          "base_uri": "https://localhost:8080/",
          "height": 203
        },
        "outputId": "a7150aa5-ad7c-4942-f359-c4766612f34b"
      },
      "source": [
        "#과거의 데이터를 준비한다 \n",
        "파일경로 = 'https://raw.githubusercontent.com/blackdew/tensorflow1/master/csv/iris.csv'\n",
        "아이리스 = pd.read_csv(파일경로)\n",
        "아이리스.head()"
      ],
      "execution_count": 2,
      "outputs": [
        {
          "output_type": "execute_result",
          "data": {
            "text/html": [
              "<div>\n",
              "<style scoped>\n",
              "    .dataframe tbody tr th:only-of-type {\n",
              "        vertical-align: middle;\n",
              "    }\n",
              "\n",
              "    .dataframe tbody tr th {\n",
              "        vertical-align: top;\n",
              "    }\n",
              "\n",
              "    .dataframe thead th {\n",
              "        text-align: right;\n",
              "    }\n",
              "</style>\n",
              "<table border=\"1\" class=\"dataframe\">\n",
              "  <thead>\n",
              "    <tr style=\"text-align: right;\">\n",
              "      <th></th>\n",
              "      <th>꽃잎길이</th>\n",
              "      <th>꽃잎폭</th>\n",
              "      <th>꽃받침길이</th>\n",
              "      <th>꽃받침폭</th>\n",
              "      <th>품종</th>\n",
              "    </tr>\n",
              "  </thead>\n",
              "  <tbody>\n",
              "    <tr>\n",
              "      <th>0</th>\n",
              "      <td>5.1</td>\n",
              "      <td>3.5</td>\n",
              "      <td>1.4</td>\n",
              "      <td>0.2</td>\n",
              "      <td>setosa</td>\n",
              "    </tr>\n",
              "    <tr>\n",
              "      <th>1</th>\n",
              "      <td>4.9</td>\n",
              "      <td>3.0</td>\n",
              "      <td>1.4</td>\n",
              "      <td>0.2</td>\n",
              "      <td>setosa</td>\n",
              "    </tr>\n",
              "    <tr>\n",
              "      <th>2</th>\n",
              "      <td>4.7</td>\n",
              "      <td>3.2</td>\n",
              "      <td>1.3</td>\n",
              "      <td>0.2</td>\n",
              "      <td>setosa</td>\n",
              "    </tr>\n",
              "    <tr>\n",
              "      <th>3</th>\n",
              "      <td>4.6</td>\n",
              "      <td>3.1</td>\n",
              "      <td>1.5</td>\n",
              "      <td>0.2</td>\n",
              "      <td>setosa</td>\n",
              "    </tr>\n",
              "    <tr>\n",
              "      <th>4</th>\n",
              "      <td>5.0</td>\n",
              "      <td>3.6</td>\n",
              "      <td>1.4</td>\n",
              "      <td>0.2</td>\n",
              "      <td>setosa</td>\n",
              "    </tr>\n",
              "  </tbody>\n",
              "</table>\n",
              "</div>"
            ],
            "text/plain": [
              "   꽃잎길이  꽃잎폭  꽃받침길이  꽃받침폭      품종\n",
              "0   5.1  3.5    1.4   0.2  setosa\n",
              "1   4.9  3.0    1.4   0.2  setosa\n",
              "2   4.7  3.2    1.3   0.2  setosa\n",
              "3   4.6  3.1    1.5   0.2  setosa\n",
              "4   5.0  3.6    1.4   0.2  setosa"
            ]
          },
          "metadata": {
            "tags": []
          },
          "execution_count": 2
        }
      ]
    },
    {
      "cell_type": "code",
      "metadata": {
        "id": "ikL3PBhb05zx",
        "colab_type": "code",
        "colab": {
          "base_uri": "https://localhost:8080/",
          "height": 203
        },
        "outputId": "bde94dce-4617-4fc2-eb08-e3ceb1adffcb"
      },
      "source": [
        "#원핫인코딩\n",
        "인코딩 = pd.get_dummies(아이리스)\n",
        "인코딩.head()"
      ],
      "execution_count": 3,
      "outputs": [
        {
          "output_type": "execute_result",
          "data": {
            "text/html": [
              "<div>\n",
              "<style scoped>\n",
              "    .dataframe tbody tr th:only-of-type {\n",
              "        vertical-align: middle;\n",
              "    }\n",
              "\n",
              "    .dataframe tbody tr th {\n",
              "        vertical-align: top;\n",
              "    }\n",
              "\n",
              "    .dataframe thead th {\n",
              "        text-align: right;\n",
              "    }\n",
              "</style>\n",
              "<table border=\"1\" class=\"dataframe\">\n",
              "  <thead>\n",
              "    <tr style=\"text-align: right;\">\n",
              "      <th></th>\n",
              "      <th>꽃잎길이</th>\n",
              "      <th>꽃잎폭</th>\n",
              "      <th>꽃받침길이</th>\n",
              "      <th>꽃받침폭</th>\n",
              "      <th>품종_setosa</th>\n",
              "      <th>품종_versicolor</th>\n",
              "      <th>품종_virginica</th>\n",
              "    </tr>\n",
              "  </thead>\n",
              "  <tbody>\n",
              "    <tr>\n",
              "      <th>0</th>\n",
              "      <td>5.1</td>\n",
              "      <td>3.5</td>\n",
              "      <td>1.4</td>\n",
              "      <td>0.2</td>\n",
              "      <td>1</td>\n",
              "      <td>0</td>\n",
              "      <td>0</td>\n",
              "    </tr>\n",
              "    <tr>\n",
              "      <th>1</th>\n",
              "      <td>4.9</td>\n",
              "      <td>3.0</td>\n",
              "      <td>1.4</td>\n",
              "      <td>0.2</td>\n",
              "      <td>1</td>\n",
              "      <td>0</td>\n",
              "      <td>0</td>\n",
              "    </tr>\n",
              "    <tr>\n",
              "      <th>2</th>\n",
              "      <td>4.7</td>\n",
              "      <td>3.2</td>\n",
              "      <td>1.3</td>\n",
              "      <td>0.2</td>\n",
              "      <td>1</td>\n",
              "      <td>0</td>\n",
              "      <td>0</td>\n",
              "    </tr>\n",
              "    <tr>\n",
              "      <th>3</th>\n",
              "      <td>4.6</td>\n",
              "      <td>3.1</td>\n",
              "      <td>1.5</td>\n",
              "      <td>0.2</td>\n",
              "      <td>1</td>\n",
              "      <td>0</td>\n",
              "      <td>0</td>\n",
              "    </tr>\n",
              "    <tr>\n",
              "      <th>4</th>\n",
              "      <td>5.0</td>\n",
              "      <td>3.6</td>\n",
              "      <td>1.4</td>\n",
              "      <td>0.2</td>\n",
              "      <td>1</td>\n",
              "      <td>0</td>\n",
              "      <td>0</td>\n",
              "    </tr>\n",
              "  </tbody>\n",
              "</table>\n",
              "</div>"
            ],
            "text/plain": [
              "   꽃잎길이  꽃잎폭  꽃받침길이  꽃받침폭  품종_setosa  품종_versicolor  품종_virginica\n",
              "0   5.1  3.5    1.4   0.2          1              0             0\n",
              "1   4.9  3.0    1.4   0.2          1              0             0\n",
              "2   4.7  3.2    1.3   0.2          1              0             0\n",
              "3   4.6  3.1    1.5   0.2          1              0             0\n",
              "4   5.0  3.6    1.4   0.2          1              0             0"
            ]
          },
          "metadata": {
            "tags": []
          },
          "execution_count": 3
        }
      ]
    },
    {
      "cell_type": "code",
      "metadata": {
        "id": "IvEUFV_H1FWw",
        "colab_type": "code",
        "colab": {
          "base_uri": "https://localhost:8080/",
          "height": 71
        },
        "outputId": "64f2adbc-facd-40fb-b0c1-634dff5c0278"
      },
      "source": [
        "print(인코딩.columns)"
      ],
      "execution_count": 4,
      "outputs": [
        {
          "output_type": "stream",
          "text": [
            "Index(['꽃잎길이', '꽃잎폭', '꽃받침길이', '꽃받침폭', '품종_setosa', '품종_versicolor',\n",
            "       '품종_virginica'],\n",
            "      dtype='object')\n"
          ],
          "name": "stdout"
        }
      ]
    },
    {
      "cell_type": "code",
      "metadata": {
        "id": "vCnHgUtB1MTh",
        "colab_type": "code",
        "colab": {
          "base_uri": "https://localhost:8080/",
          "height": 35
        },
        "outputId": "423010b2-1383-4a61-cb09-571d74228745"
      },
      "source": [
        "#독립 변수, 종속 변수 \n",
        "\n",
        "독립 = 인코딩[['꽃잎길이', '꽃잎폭', '꽃받침길이', '꽃받침폭']]\n",
        "종속 = 인코딩[['품종_setosa', '품종_versicolor',\n",
        "       '품종_virginica']]\n",
        "print(독립.shape, 종속.shape)       "
      ],
      "execution_count": 6,
      "outputs": [
        {
          "output_type": "stream",
          "text": [
            "(150, 4) (150, 3)\n"
          ],
          "name": "stdout"
        }
      ]
    },
    {
      "cell_type": "code",
      "metadata": {
        "id": "rJfm9p_f1eu6",
        "colab_type": "code",
        "colab": {}
      },
      "source": [
        "#모델의 구조를 만듭니다\n",
        "\n",
        "X= tf.keras.layers.Input(shape=[4])\n",
        "H = tf.keras.layers.Dense(8, activation='swish')(X)\n",
        "H = tf.keras.layers.Dense(8, activation='swish')(H)\n",
        "H = tf.keras.layers.Dense(8, activation='swish')(H)\n",
        "Y = tf.keras.layers.Dense(3,activation='softmax')(H)\n",
        "model = tf.keras.models.Model(X,Y)\n",
        "model.compile(loss='categorical_crossentropy',\n",
        "              metrics='accuracy')"
      ],
      "execution_count": 15,
      "outputs": []
    },
    {
      "cell_type": "code",
      "metadata": {
        "id": "ZDU1BFf87YcN",
        "colab_type": "code",
        "colab": {
          "base_uri": "https://localhost:8080/",
          "height": 341
        },
        "outputId": "117e32df-532c-4631-89fd-fe4b29bea2d5"
      },
      "source": [
        "model.summary()"
      ],
      "execution_count": 20,
      "outputs": [
        {
          "output_type": "stream",
          "text": [
            "Model: \"functional_3\"\n",
            "_________________________________________________________________\n",
            "Layer (type)                 Output Shape              Param #   \n",
            "=================================================================\n",
            "input_2 (InputLayer)         [(None, 4)]               0         \n",
            "_________________________________________________________________\n",
            "dense_1 (Dense)              (None, 8)                 40        \n",
            "_________________________________________________________________\n",
            "dense_2 (Dense)              (None, 8)                 72        \n",
            "_________________________________________________________________\n",
            "dense_3 (Dense)              (None, 8)                 72        \n",
            "_________________________________________________________________\n",
            "dense_4 (Dense)              (None, 3)                 27        \n",
            "=================================================================\n",
            "Total params: 211\n",
            "Trainable params: 211\n",
            "Non-trainable params: 0\n",
            "_________________________________________________________________\n"
          ],
          "name": "stdout"
        }
      ]
    },
    {
      "cell_type": "code",
      "metadata": {
        "id": "L1_FdJZO2Rui",
        "colab_type": "code",
        "colab": {
          "base_uri": "https://localhost:8080/",
          "height": 395
        },
        "outputId": "8bff867e-f252-455c-9927-4aa6f7a657aa"
      },
      "source": [
        "# 3.데이터로 모델을 학습(FIT)합니다.\n",
        "model.fit(독립,종속,epochs=1000, verbose=0)\n",
        "model.fit(독립,종속,epochs=10)"
      ],
      "execution_count": 16,
      "outputs": [
        {
          "output_type": "stream",
          "text": [
            "Epoch 1/10\n",
            "5/5 [==============================] - 0s 2ms/step - loss: 0.0465 - accuracy: 0.9867\n",
            "Epoch 2/10\n",
            "5/5 [==============================] - 0s 2ms/step - loss: 0.0442 - accuracy: 0.9800\n",
            "Epoch 3/10\n",
            "5/5 [==============================] - 0s 2ms/step - loss: 0.0424 - accuracy: 0.9867\n",
            "Epoch 4/10\n",
            "5/5 [==============================] - 0s 2ms/step - loss: 0.0578 - accuracy: 0.9800\n",
            "Epoch 5/10\n",
            "5/5 [==============================] - 0s 2ms/step - loss: 0.0492 - accuracy: 0.9867\n",
            "Epoch 6/10\n",
            "5/5 [==============================] - 0s 2ms/step - loss: 0.0474 - accuracy: 0.9867\n",
            "Epoch 7/10\n",
            "5/5 [==============================] - 0s 3ms/step - loss: 0.0515 - accuracy: 0.9867\n",
            "Epoch 8/10\n",
            "5/5 [==============================] - 0s 2ms/step - loss: 0.0473 - accuracy: 0.9800\n",
            "Epoch 9/10\n",
            "5/5 [==============================] - 0s 2ms/step - loss: 0.0432 - accuracy: 0.9800\n",
            "Epoch 10/10\n",
            "5/5 [==============================] - 0s 2ms/step - loss: 0.0563 - accuracy: 0.9733\n"
          ],
          "name": "stdout"
        },
        {
          "output_type": "execute_result",
          "data": {
            "text/plain": [
              "<tensorflow.python.keras.callbacks.History at 0x7ff4c5a4d400>"
            ]
          },
          "metadata": {
            "tags": []
          },
          "execution_count": 16
        }
      ]
    },
    {
      "cell_type": "code",
      "metadata": {
        "id": "GbYmFoIz2kpy",
        "colab_type": "code",
        "colab": {
          "base_uri": "https://localhost:8080/",
          "height": 215
        },
        "outputId": "c93a3850-3214-4b5f-c68b-71355147c148"
      },
      "source": [
        "#모델을 이용하기\n",
        "\n",
        "print(model.predict(독립[:5]))\n",
        "print(종속[:5])"
      ],
      "execution_count": 11,
      "outputs": [
        {
          "output_type": "stream",
          "text": [
            "[[9.99009728e-01 9.90091707e-04 1.13062086e-07]\n",
            " [9.95517194e-01 4.48170304e-03 1.05999220e-06]\n",
            " [9.98211384e-01 1.78825099e-03 3.68556357e-07]\n",
            " [9.95171487e-01 4.82692337e-03 1.48389586e-06]\n",
            " [9.99257982e-01 7.41863041e-04 8.31337701e-08]]\n",
            "   품종_setosa  품종_versicolor  품종_virginica\n",
            "0          1              0             0\n",
            "1          1              0             0\n",
            "2          1              0             0\n",
            "3          1              0             0\n",
            "4          1              0             0\n"
          ],
          "name": "stdout"
        }
      ]
    },
    {
      "cell_type": "code",
      "metadata": {
        "id": "stxRduDA2zp0",
        "colab_type": "code",
        "colab": {
          "base_uri": "https://localhost:8080/",
          "height": 215
        },
        "outputId": "a1d36540-4b1f-4077-93db-609e791a689e"
      },
      "source": [
        "print(model.predict(독립[-5:]))\n",
        "print(종속[:5])"
      ],
      "execution_count": 17,
      "outputs": [
        {
          "output_type": "stream",
          "text": [
            "[[1.3604139e-27 1.9610039e-04 9.9980396e-01]\n",
            " [1.7850412e-23 4.8171394e-03 9.9518281e-01]\n",
            " [5.7086456e-24 7.7509005e-03 9.9224913e-01]\n",
            " [2.2244081e-27 2.6191448e-04 9.9973804e-01]\n",
            " [6.7707363e-21 9.7322807e-02 9.0267718e-01]]\n",
            "   품종_setosa  품종_versicolor  품종_virginica\n",
            "0          1              0             0\n",
            "1          1              0             0\n",
            "2          1              0             0\n",
            "3          1              0             0\n",
            "4          1              0             0\n"
          ],
          "name": "stdout"
        }
      ]
    },
    {
      "cell_type": "code",
      "metadata": {
        "id": "PbfHpk3E26td",
        "colab_type": "code",
        "colab": {
          "base_uri": "https://localhost:8080/",
          "height": 215
        },
        "outputId": "4fb11ce0-02c5-4090-d02c-04d46780372e"
      },
      "source": [
        "print(model.predict(독립[-5:]))\n",
        "print(종속[-5:])"
      ],
      "execution_count": 18,
      "outputs": [
        {
          "output_type": "stream",
          "text": [
            "[[1.3604139e-27 1.9610039e-04 9.9980396e-01]\n",
            " [1.7850412e-23 4.8171394e-03 9.9518281e-01]\n",
            " [5.7086456e-24 7.7509005e-03 9.9224913e-01]\n",
            " [2.2244081e-27 2.6191448e-04 9.9973804e-01]\n",
            " [6.7707363e-21 9.7322807e-02 9.0267718e-01]]\n",
            "     품종_setosa  품종_versicolor  품종_virginica\n",
            "145          0              0             1\n",
            "146          0              0             1\n",
            "147          0              0             1\n",
            "148          0              0             1\n",
            "149          0              0             1\n"
          ],
          "name": "stdout"
        }
      ]
    },
    {
      "cell_type": "code",
      "metadata": {
        "id": "Zzo2Q6252-6T",
        "colab_type": "code",
        "colab": {
          "base_uri": "https://localhost:8080/",
          "height": 1000
        },
        "outputId": "6acd8172-e826-4b31-fc3f-92cc1978cff4"
      },
      "source": [
        "#학습한 가중치 출력하기 \n",
        "model.get_weights()"
      ],
      "execution_count": 19,
      "outputs": [
        {
          "output_type": "execute_result",
          "data": {
            "text/plain": [
              "[array([[ 0.10116876,  0.56502616,  0.5036629 , -0.45014343,  0.24350776,\n",
              "         -0.12009734,  0.01747745, -0.17828456],\n",
              "        [-0.24247889,  0.7076198 ,  0.46678624,  0.43481964, -0.05711007,\n",
              "         -0.06401046,  0.35817897,  0.6059837 ],\n",
              "        [-0.34514797,  0.10254807,  0.8240076 , -0.2123067 ,  0.62809575,\n",
              "         -0.22165547, -0.62610066, -0.46687123],\n",
              "        [-0.73087525, -0.7191136 ,  0.02973144, -0.9631314 ,  0.8827381 ,\n",
              "         -0.503802  , -0.41261744, -0.82469624]], dtype=float32),\n",
              " array([ 0.43655533,  0.3363426 , -0.03995506,  0.12120058, -0.22004801,\n",
              "         0.45181543,  0.16312791,  0.275905  ], dtype=float32),\n",
              " array([[ 0.8945987 , -1.0012319 , -0.54767835,  0.35473523,  0.4030992 ,\n",
              "          0.764314  , -1.0659106 , -0.6367366 ],\n",
              "        [ 0.69165957,  0.2563143 ,  0.3897586 , -0.41102135, -0.45233077,\n",
              "         -0.5702793 ,  0.50609535,  0.6381573 ],\n",
              "        [ 0.7870301 ,  0.18601555,  0.4234857 ,  0.31867003, -0.38963905,\n",
              "          0.58238983, -0.33301327,  0.21267778],\n",
              "        [ 0.74411815, -1.027788  , -1.1917086 , -0.04609907,  0.7245963 ,\n",
              "          0.17770019, -0.1067169 , -0.32533976],\n",
              "        [ 0.7294462 , -0.39974475, -0.8200846 ,  0.07001644,  0.6221142 ,\n",
              "          0.80683863,  0.13290034, -0.704851  ],\n",
              "        [ 0.05801881, -1.0486779 , -0.47931126,  0.27317622,  0.65294135,\n",
              "          0.92208207, -1.1369779 , -0.13065551],\n",
              "        [ 0.07553466, -1.2419515 , -0.7663573 , -0.33911407,  0.3808371 ,\n",
              "          0.96055096, -0.9853358 , -0.6857382 ],\n",
              "        [ 0.19117726, -0.8039379 , -0.4507753 , -0.09992791, -0.01654975,\n",
              "          0.6124904 , -1.1442212 , -1.1885878 ]], dtype=float32),\n",
              " array([ 0.06611885,  0.2328299 ,  0.22791922,  0.13225059, -0.12343258,\n",
              "        -0.22704679,  0.32364658,  0.26545423], dtype=float32),\n",
              " array([[ 5.90594232e-01, -3.48795503e-01,  6.08826637e-01,\n",
              "          1.79353729e-01,  4.38640714e-01, -2.61578441e-01,\n",
              "          2.90962636e-01, -4.51011688e-01],\n",
              "        [-5.85430264e-01,  1.06228566e+00, -5.01964390e-01,\n",
              "          5.07683396e-01,  6.91658780e-02,  2.66128808e-01,\n",
              "         -7.78596640e-01,  1.03998734e-02],\n",
              "        [-9.87185895e-01,  1.37818503e+00, -4.12482023e-02,\n",
              "          7.40874588e-01,  6.84946105e-02,  3.35911304e-01,\n",
              "         -6.04028046e-01,  5.64613521e-01],\n",
              "        [-8.57151970e-02, -8.90198588e-01, -5.93083948e-02,\n",
              "         -1.84376419e-01, -3.03139180e-01, -7.00390577e-01,\n",
              "          5.85366488e-01, -9.25593153e-02],\n",
              "        [-8.14526081e-01,  5.27269244e-01,  7.70383626e-02,\n",
              "          4.59350646e-01, -5.99931553e-02, -4.70422328e-01,\n",
              "          9.00194198e-02,  2.77386159e-01],\n",
              "        [ 5.80993891e-01, -9.27022621e-02,  1.27628283e-03,\n",
              "         -2.50558794e-01, -2.97717631e-01, -1.60135403e-01,\n",
              "          5.92024863e-01,  9.99290347e-02],\n",
              "        [-5.13862491e-01, -1.84522331e-01, -3.62598598e-01,\n",
              "          9.90844309e-01,  1.16889484e-01,  4.13588017e-01,\n",
              "         -8.97656381e-01,  6.39066279e-01],\n",
              "        [-8.09946477e-01,  1.56195715e-01, -4.78404984e-02,\n",
              "          8.63405883e-01,  2.41842017e-01,  5.64142168e-01,\n",
              "         -5.96005797e-01,  9.97456670e-01]], dtype=float32),\n",
              " array([ 0.13213977,  0.2045229 , -0.01938016,  0.16029842,  0.09880213,\n",
              "         0.3456522 , -0.2565302 ,  0.19871636], dtype=float32),\n",
              " array([[-3.2440188 ,  0.42110315,  1.0609208 ],\n",
              "        [ 2.2476568 , -1.6917078 ,  0.94572616],\n",
              "        [ 0.23468843, -0.27144504,  0.07316805],\n",
              "        [-0.09271436,  0.6777478 , -0.8440528 ],\n",
              "        [-0.7926216 ,  0.25692362, -0.07473235],\n",
              "        [ 1.486463  ,  0.14344156,  1.4349157 ],\n",
              "        [-1.4856191 ,  0.11464914,  1.2361157 ],\n",
              "        [ 2.7537487 , -0.57081   ,  1.584989  ]], dtype=float32),\n",
              " array([ 0.04160954,  0.13984749, -0.34990752], dtype=float32)]"
            ]
          },
          "metadata": {
            "tags": []
          },
          "execution_count": 19
        }
      ]
    },
    {
      "cell_type": "code",
      "metadata": {
        "id": "oN-TDX-t3GWR",
        "colab_type": "code",
        "colab": {}
      },
      "source": [
        ""
      ],
      "execution_count": null,
      "outputs": []
    }
  ]
}